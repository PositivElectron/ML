{
 "cells": [
  {
   "cell_type": "markdown",
   "id": "8827e712",
   "metadata": {
    "papermill": {
     "duration": 0.023277,
     "end_time": "2023-02-23T07:01:57.466650",
     "exception": false,
     "start_time": "2023-02-23T07:01:57.443373",
     "status": "completed"
    },
    "tags": []
   },
   "source": [
    "<div style=\"padding:20px;\n",
    "            color:white;\n",
    "            margin:10;\n",
    "            font-size:200%;\n",
    "            text-align:center;\n",
    "            display:fill;\n",
    "            border-radius:5px;\n",
    "            background-color:#294B8E;\n",
    "            overflow:hidden;\n",
    "            font-weight:700\">🔥 One Hot Encoding 🔥</div>"
   ]
  },
  {
   "cell_type": "code",
   "execution_count": 1,
   "id": "284248d7",
   "metadata": {
    "papermill": {
     "duration": 0.885429,
     "end_time": "2023-02-23T07:01:58.468863",
     "exception": false,
     "start_time": "2023-02-23T07:01:57.583434",
     "status": "completed"
    },
    "tags": []
   },
   "outputs": [],
   "source": [
    "from matplotlib import pyplot as plt\n",
    "import seaborn as sns"
   ]
  },
  {
   "cell_type": "markdown",
   "id": "4d5e5500",
   "metadata": {
    "papermill": {
     "duration": 0.019851,
     "end_time": "2023-02-23T07:01:58.590213",
     "exception": false,
     "start_time": "2023-02-23T07:01:58.570362",
     "status": "completed"
    },
    "tags": []
   },
   "source": [
    "<a id=\"1\"></a>\n",
    "<div style=\"padding:20px;\n",
    "            color:white;\n",
    "            margin:10;\n",
    "            font-size:170%;\n",
    "            text-align:left;\n",
    "            display:fill;\n",
    "            border-radius:5px;\n",
    "            background-color:#294B8E;\n",
    "            overflow:hidden;\n",
    "            font-weight:700\">1 <span style='color:#CDA63A'>|</span> Introduction</div>"
   ]
  },
  {
   "cell_type": "markdown",
   "id": "58f9acbd",
   "metadata": {
    "papermill": {
     "duration": 0.020279,
     "end_time": "2023-02-23T07:01:58.630794",
     "exception": false,
     "start_time": "2023-02-23T07:01:58.610515",
     "status": "completed"
    },
    "tags": []
   },
   "source": [
    "In order to fit ML algorithms you have to convert categorical (non-numeric) variables to numeric features before building your model. This process is known as categorical data encoding. There are different encoding techniques available, but the most common and widely used is One Hot Encoding.\n",
    "\n",
    "There are two popular and commonly used methods:  scikit-learn OneHotEncoder(OHE) and Pandas get_dummies method."
   ]
  },
  {
   "cell_type": "markdown",
   "id": "c0b19dd4",
   "metadata": {
    "papermill": {
     "duration": 0.020083,
     "end_time": "2023-02-23T07:01:58.671164",
     "exception": false,
     "start_time": "2023-02-23T07:01:58.651081",
     "status": "completed"
    },
    "tags": []
   },
   "source": [
    "<div class=\"alert alert-block alert-info\" style=\"background-color:#CDA63A;\n",
    "                                                 color:white;\n",
    "                                                 border-color:black;\n",
    "                                                 border-radius:5px;\n",
    "                                                 width:50%;\n",
    "                                                 margin: auto;\n",
    "                                                 text-align: left;\">\n",
    "<b>In essence:</b> one-hot encoding creates a new column for each unique category in a categorical variable and assigns a binary value of 1 or 0 to indicate the presence or absence of that category in a given observation.</div>"
   ]
  },
  {
   "attachments": {
    "ccb68792-0c94-4092-9eac-fad4617e561a.png": {
     "image/png": "[encoded data removed]"
    }
   },
   "cell_type": "markdown",
   "id": "e240af7b",
   "metadata": {
    "papermill": {
     "duration": 0.020118,
     "end_time": "2023-02-23T07:01:58.711706",
     "exception": false,
     "start_time": "2023-02-23T07:01:58.691588",
     "status": "completed"
    },
    "tags": []
   },
   "source": [
    "![ohe1.png](attachment:ccb68792-0c94-4092-9eac-fad4617e561a.png)"
   ]
  },
  {
   "cell_type": "markdown",
   "id": "8b99a1f1",
   "metadata": {
    "papermill": {
     "duration": 0.020257,
     "end_time": "2023-02-23T07:01:58.752495",
     "exception": false,
     "start_time": "2023-02-23T07:01:58.732238",
     "status": "completed"
    },
    "tags": []
   },
   "source": [
    "<a id=\"1.1\"></a>\n",
    "## <b>1.1 <span style='color:#E1B12D'>One Hot Encoder vs get_dummies</span></b>"
   ]
  },
  {
   "cell_type": "markdown",
   "id": "c862e873",
   "metadata": {
    "papermill": {
     "duration": 0.019998,
     "end_time": "2023-02-23T07:01:58.792807",
     "exception": false,
     "start_time": "2023-02-23T07:01:58.772809",
     "status": "completed"
    },
    "tags": []
   },
   "source": [
    "get_dummies is a bit more convenient and probably that's why it's a popular method.\n",
    "\n",
    "The real problem is: handling unknown categorical features which will pop up in production. If the total number of unique values in a categorical column is not the same for our train set vs test set, we are going to have problems. OneHotEncoder is a transformer class, so it can be fitted to data. Once fitted, it is able to transform validation data based on the categories it learned.\n",
    "\n",
    "Basically, get_dummies can be used in exploratory analysis, whereas OneHotEncoder in computation and estimation.\n",
    "\n",
    "> Basically **<mark style=\"background-color:#3b3745;color:white;border-radius:5px;opacity:1.0\">get_dummies</mark>** can be used in exploratory analysis, whereas **<mark style=\"background-color:#3b3745;color:white;border-radius:5px;opacity:1.0\">  OneHotEncoder</mark>** in computation and estimation."
   ]
  },
  {
   "cell_type": "markdown",
   "id": "2da66f0f",
   "metadata": {
    "papermill": {
     "duration": 0.020107,
     "end_time": "2023-02-23T07:01:58.833288",
     "exception": false,
     "start_time": "2023-02-23T07:01:58.813181",
     "status": "completed"
    },
    "tags": []
   },
   "source": [
    "<div class=\"alert alert-block alert-info\" style=\"background-color:#CDA63A;\n",
    "                                                 color:white;\n",
    "                                                 border-color:black;\n",
    "                                                 border-radius:5px;\n",
    "                                                 width:70%;\n",
    "                                                 margin: auto;\n",
    "                                                 text-align: left;\">\n",
    "<b>OHE creates a function which saves the exploded categories. </b> It is extremely useful if we want to process the new data and use the same categorical variables, with consistent results. If previously unseen data contains new categories, the encoder will ignore them or raise an error (depending on setting handle_unknown parameter). The key point here is that we can handle the situation with ease.\n",
    "</div>"
   ]
  },
  {
   "cell_type": "markdown",
   "id": "88f1a9e1",
   "metadata": {
    "papermill": {
     "duration": 0.020772,
     "end_time": "2023-02-23T07:01:58.874430",
     "exception": false,
     "start_time": "2023-02-23T07:01:58.853658",
     "status": "completed"
    },
    "tags": []
   },
   "source": [
    "<a id=\"1.2\"></a>\n",
    "## <b>1.2 <span style='color:#E1B12D'>The dummy variable trap: drop or not to drop?</span></b>"
   ]
  },
  {
   "cell_type": "markdown",
   "id": "bc91c499",
   "metadata": {
    "papermill": {
     "duration": 0.019744,
     "end_time": "2023-02-23T07:01:58.914591",
     "exception": false,
     "start_time": "2023-02-23T07:01:58.894847",
     "status": "completed"
    },
    "tags": []
   },
   "source": [
    "When dealing with categorical features, a common convention is to drop one of the new columns from each feature. The argument comes from statistics: without dropping a column, we know that the sum of all these columns will be 1 in every row. For example, encoding gender as two variables, is_male and is_female, produces two features which are perfectly negatively correlated. This is called the dummy variable trap: perfect multicollinearity between the predictors.\n",
    "\n",
    "If we decide to drop the first column, the algorithm drops the category value name that comes first alpha-numerically in the set. In the gender example, the first column would be Female since F comes before M."
   ]
  },
  {
   "cell_type": "markdown",
   "id": "ce8b02fe",
   "metadata": {
    "papermill": {
     "duration": 0.019848,
     "end_time": "2023-02-23T07:01:58.954639",
     "exception": false,
     "start_time": "2023-02-23T07:01:58.934791",
     "status": "completed"
    },
    "tags": []
   },
   "source": [
    "<div style=\" background-color:#3b3745;\n",
    "            text-align:left;\n",
    "            padding: 10px 13px; \n",
    "            border-radius: 8px; \n",
    "            margin: auto;\n",
    "            color: white\">\n",
    "<ul>\n",
    "The idea of dropping the first column is useful in situations where perfectly collinear features cause problems, such as when feeding the resulting data into an unregularized linear model. However, a principle of machine learning is to build a highly predictive model. Therefore, we seldom take advantage of very simple models and we usually apply regularization.\n",
    "</ul>\n",
    "</div>"
   ]
  },
  {
   "cell_type": "markdown",
   "id": "2931c366-c60f-446c-8adc-28ed0f08222a",
   "metadata": {},
   "source": [
    "<a id=\"1.2.1\"></a>\n",
    "### <b>1.2.1 <span style='color:#E1B12D'>Multi collinearity effect</span></b>"
   ]
  },
  {
   "attachments": {
    "785a1f69-f506-47e0-8d38-b3337df7eb7e.png": {
     "image/png": "[encoded data removed]"
    }
   },
   "cell_type": "markdown",
   "id": "906a0b21-ea1d-4292-9225-f5c8ba9eec94",
   "metadata": {},
   "source": [
    "![image.png](attachment:785a1f69-f506-47e0-8d38-b3337df7eb7e.png)"
   ]
  },
  {
   "cell_type": "markdown",
   "id": "67f5e351-4d85-4242-a5d4-34a8b3f2980e",
   "metadata": {},
   "source": [
    "On the left is the situation where there is mild overlap among the\n",
    "predictors. We can still measure the unique effect of each predictor on Y those are the yellow, red, and blue sections.<br>\n",
    "The regression coefficients do not include the orange and purple\n",
    "sections. This means the coefficients themselves are not telling you the\n",
    "full picture of the effect of each predictor on Y. <br>\n",
    "As long as you keep that in mind as you interpret coefficients, you’re not\n",
    "violating assumptions and your model is reliable. But you can’t tell if that\n",
    "orange section is really attributable to X1 or X2. Or if that distinction even\n",
    "has any meaning. There is no way to distinguish them.<br>\n",
    "But in the situation on the right, the overlap between X1 and X2 becomes\n",
    "so extreme that it can cause the model to have estimation problems.\n",
    "This is usually what we mean when we say we have multicollinearity.\n",
    "The model is trying to estimate the unique effect of each predictor on Y,\n",
    "but there just isn’t enough unique information about X1 and X2 to\n",
    "calculate it.<br>\n",
    "If when X1 goes up, so does X2, how can you separately estimate the\n",
    "effect of a one unit increase of X1 on Y and X2 on Y?"
   ]
  },
  {
   "cell_type": "markdown",
   "id": "aa5bea69",
   "metadata": {
    "papermill": {
     "duration": 0.020353,
     "end_time": "2023-02-23T07:01:58.995600",
     "exception": false,
     "start_time": "2023-02-23T07:01:58.975247",
     "status": "completed"
    },
    "tags": []
   },
   "source": [
    "<a id=\"1.3\"></a>\n",
    "## <b>1.3 <span style='color:#E1B12D'>Possible drawbacks of dropping a column during one hot encoding</span></b>"
   ]
  },
  {
   "cell_type": "markdown",
   "id": "7bdbd519",
   "metadata": {
    "papermill": {
     "duration": 0.020106,
     "end_time": "2023-02-23T07:01:59.036033",
     "exception": false,
     "start_time": "2023-02-23T07:01:59.015927",
     "status": "completed"
    },
    "tags": []
   },
   "source": [
    "1. In the documentation we can read that: “dropping one category breaks the symmetry of the original representation and can therefore induce a bias in downstream models, for instance for penalized linear classification or regression models.”\n",
    "\n",
    "2. There is one more problem. Take a closer look at the OneHotEncoder’s parameter ‘first’. By checking the documentation we can read that it: “drops the first category in each feature. If only one category is present, the feature will be dropped entirely.” So it can happen that a whole column is dropped, but only if it has only one category. "
   ]
  },
  {
   "cell_type": "markdown",
   "id": "ee1d6bec",
   "metadata": {
    "papermill": {
     "duration": 0.020523,
     "end_time": "2023-02-23T07:01:59.076935",
     "exception": false,
     "start_time": "2023-02-23T07:01:59.056412",
     "status": "completed"
    },
    "tags": []
   },
   "source": [
    "<div style=\" background-color:#3b3745;\n",
    "            text-align:left;\n",
    "            padding: 13px 13px; \n",
    "            border-radius: 8px; \n",
    "            margin: auto;\n",
    "            color: white\">\n",
    "<ul>\n",
    "We can think that in this case the feature is not useful anyway, but consider of a situation where we have to deal with new entries that are present in the test set (and production), but not in the training set. For example we could have only entries regarding females in the training set. If we don't drop a column, the natural thing to do is put all zeros there (i.e. male is not in any of the genders we have seen). If we dropped a column (such as \"male\") then there is no longer a way to encode the new variable. A reasonable compromise could be to include another column called \"other\", and drop that if we want to avoid the dummy trap.\n",
    "</ul>\n",
    "</div>"
   ]
  },
  {
   "cell_type": "markdown",
   "id": "d079e5ae",
   "metadata": {
    "papermill": {
     "duration": 0.01996,
     "end_time": "2023-02-23T07:01:59.238918",
     "exception": false,
     "start_time": "2023-02-23T07:01:59.218958",
     "status": "completed"
    },
    "tags": []
   },
   "source": [
    "<a id=\"1.4\"></a>\n",
    "## <b>1.4 <span style='color:#E1B12D'>One Hot Encoding vs very high number of categorical features</span></b>"
   ]
  },
  {
   "cell_type": "markdown",
   "id": "997cef0f",
   "metadata": {
    "papermill": {
     "duration": 0.019866,
     "end_time": "2023-02-23T07:01:59.279009",
     "exception": false,
     "start_time": "2023-02-23T07:01:59.259143",
     "status": "completed"
    },
    "tags": []
   },
   "source": [
    "One-Hot encoding should not be performed if the number of categories is very high. This would result in sparse data. Depending on the use case, we will need to do some exploratory data analysis to do some feature engineering."
   ]
  },
  {
   "cell_type": "markdown",
   "id": "5dfb01f6",
   "metadata": {
    "papermill": {
     "duration": 0.019739,
     "end_time": "2023-02-23T07:01:59.318899",
     "exception": false,
     "start_time": "2023-02-23T07:01:59.299160",
     "status": "completed"
    },
    "tags": []
   },
   "source": [
    "<div class=\"alert alert-block alert-info\" style=\"background-color:#CDA63A;\n",
    "                                                 color:white;\n",
    "                                                 border-color:black;\n",
    "                                                 border-radius:5px;\n",
    "                                                 width:70%;\n",
    "                                                 margin: auto;\n",
    "                                                 text-align: left;\">\n",
    "<b>What is a level.</b> Each of the four different colors (Red, Blue, Green, and Yellow) are referred to be levels of the Color feature. One-hot encoding would turn the feature Color into 4 different columns (one for each level). So the number of levels (distinct values that a category can take) in the Color feature is 4.\n",
    "</div>"
   ]
  },
  {
   "cell_type": "markdown",
   "id": "123433fd",
   "metadata": {
    "papermill": {
     "duration": 0.024867,
     "end_time": "2023-02-23T07:01:59.363806",
     "exception": false,
     "start_time": "2023-02-23T07:01:59.338939",
     "status": "completed"
    },
    "tags": []
   },
   "source": [
    "Therefore:\n",
    "<div style=\" background-color:#3b3745;\n",
    "            text-align:left;\n",
    "            padding: 13px 13px; \n",
    "            border-radius: 8px; \n",
    "            margin: auto;\n",
    "            color: white\">\n",
    "<ul>\n",
    "<li>The number of rows should be at least 5 times the number of features.    \n",
    "<li>For tree-based models, try to keep the number of levels less than 5 for the feature.</ul>\n",
    "</div>\n",
    "\n",
    "If the number of levels is large, you could be better off with a different encoding scheme. Feature engineering is the most important aspect of building an effective model.\n"
   ]
  },
  {
   "cell_type": "markdown",
   "id": "0ebb67ca",
   "metadata": {
    "papermill": {
     "duration": 0.023581,
     "end_time": "2023-02-23T07:01:59.411416",
     "exception": false,
     "start_time": "2023-02-23T07:01:59.387835",
     "status": "completed"
    },
    "tags": []
   },
   "source": [
    "<a id=\"1.4.1\"></a>\n",
    "### <b>1.4.1 <span style='color:#E1B12D'>Grouping levels together</span></b>"
   ]
  },
  {
   "cell_type": "markdown",
   "id": "3980d333",
   "metadata": {
    "papermill": {
     "duration": 0.019844,
     "end_time": "2023-02-23T07:01:59.454036",
     "exception": false,
     "start_time": "2023-02-23T07:01:59.434192",
     "status": "completed"
    },
    "tags": []
   },
   "source": [
    "* Instead of dealing with types of trees, you can introduce classes: coniferous, deciduous.\n",
    "* Instead of dealing with streets, you can introduce districts: Manhattan, Brooklyn, Queens, Bronx and Staten Island."
   ]
  },
  {
   "cell_type": "markdown",
   "id": "b3157241",
   "metadata": {
    "papermill": {
     "duration": 0.019726,
     "end_time": "2023-02-23T07:01:59.493987",
     "exception": false,
     "start_time": "2023-02-23T07:01:59.474261",
     "status": "completed"
    },
    "tags": []
   },
   "source": [
    "<a id=\"1.4.2\"></a>\n",
    "### <b>1.4.2 <span style='color:#E1B12D'>Creating \"Other\" column</span></b>"
   ]
  },
  {
   "cell_type": "markdown",
   "id": "4c781e8e",
   "metadata": {
    "papermill": {
     "duration": 0.019782,
     "end_time": "2023-02-23T07:01:59.533846",
     "exception": false,
     "start_time": "2023-02-23T07:01:59.514064",
     "status": "completed"
    },
    "tags": []
   },
   "source": [
    "For example: you run an e-commerce business in the European Union and you have customers in all member state countries, but 60% from Germany, 25% for France, 10% from Poland and the remaining 5% across the other 24 countries. \n",
    "\n",
    "An encoding such as: MState_GE, MState_FR, MState_PL, MState_OTHER makes sense in this context."
   ]
  },
  {
   "cell_type": "markdown",
   "id": "e9ff95db",
   "metadata": {
    "papermill": {
     "duration": 0.019843,
     "end_time": "2023-02-23T07:01:59.573766",
     "exception": false,
     "start_time": "2023-02-23T07:01:59.553923",
     "status": "completed"
    },
    "tags": []
   },
   "source": [
    "<a id=\"1.5\"></a>\n",
    "## <b>1.5 <span style='color:#E1B12D'>Pipelines and One Hot Encoding</span></b>"
   ]
  },
  {
   "cell_type": "markdown",
   "id": "a42599d6",
   "metadata": {
    "papermill": {
     "duration": 0.019774,
     "end_time": "2023-02-23T07:01:59.613652",
     "exception": false,
     "start_time": "2023-02-23T07:01:59.593878",
     "status": "completed"
    },
    "tags": []
   },
   "source": [
    "Pandas get_dummies is not compatible with the Scikit-learn pipeline. OneHotEncoder matches scikit-learn’s transformer API and therefore it is compatible with pipeline and is easy to use for our convenience."
   ]
  },
  {
   "cell_type": "markdown",
   "id": "ef1ffdf8",
   "metadata": {
    "papermill": {
     "duration": 0.019784,
     "end_time": "2023-02-23T07:01:59.653538",
     "exception": false,
     "start_time": "2023-02-23T07:01:59.633754",
     "status": "completed"
    },
    "tags": []
   },
   "source": [
    "<a id=\"1.6\"></a>\n",
    "## <b>1.6 <span style='color:#E1B12D'>One Hot Encoding - before or after train-test split?</span></b>"
   ]
  },
  {
   "cell_type": "markdown",
   "id": "ccb2f90c",
   "metadata": {
    "papermill": {
     "duration": 0.019832,
     "end_time": "2023-02-23T07:01:59.693372",
     "exception": false,
     "start_time": "2023-02-23T07:01:59.673540",
     "status": "completed"
    },
    "tags": []
   },
   "source": [
    "We will encounter errors when fitting a model on the training set and predict on test features of different shapes.\n",
    "That's why a lot of people advise to perform one hot encoding before the train-test split.\n",
    "\n",
    "Generally you should to treat the test set as though you did not have it during training. Performing the encoding before the split will lead to data leakage (train-test contamination). For example - the test set could contain one or more categories that were not present in a training set. It happens in real life applications all the time.\n",
    "\n",
    "However, if the goal is exploratory data analysis, one-hot encoding can be performed before splitting the data into training and testing sets."
   ]
  },
  {
   "cell_type": "markdown",
   "id": "ec5047ed",
   "metadata": {
    "papermill": {
     "duration": 0.019741,
     "end_time": "2023-02-23T07:01:59.733214",
     "exception": false,
     "start_time": "2023-02-23T07:01:59.713473",
     "status": "completed"
    },
    "tags": []
   },
   "source": [
    "<a id=\"1.7\"></a>\n",
    "## <b>1.7 <span style='color:#E1B12D'>Best practices</span></b>"
   ]
  },
  {
   "cell_type": "markdown",
   "id": "cdef2603",
   "metadata": {
    "papermill": {
     "duration": 0.019627,
     "end_time": "2023-02-23T07:01:59.772925",
     "exception": false,
     "start_time": "2023-02-23T07:01:59.753298",
     "status": "completed"
    },
    "tags": []
   },
   "source": [
    "<div style=\" background-color:#3b3745;\n",
    "            text-align:left;\n",
    "            padding: 13px 13px; \n",
    "            border-radius: 8px; \n",
    "            margin: auto;\n",
    "            color: white\">\n",
    "<ul>\n",
    "<li>Scikit-learn's OneHotEncoder is a much better choice for machine learning than Pandas get_dummies. You can still take advantage of Pandas get_dummies for data preparation and exploratory data analysis.\n",
    "<li>You should perform One Hot Encoding before train-test split to avoid data leakage (train-test contamination).\n",
    "<li> One hot encoding doesn't scale well when the number of output labels is large. For example, in language modeling the number of output labels is extremely large. This means that after one hot encoding we will get the huge number of fetures.\n",
    "<li> Tree-based models struggle if there are a large number of levels, regardless of how much data we have.\n",
    "<li> Linear models can deal with a large number of levels, provided we have enough data to accurately estimate the coefficients.\n",
    "<li> Take advantage of feature engineering to reduce the number of outputs to improve the effectiveness of your model if you are one-hot encoding the feature.\n",
    "<li> The idea of dropping the first column is useful in situations where perfectly collinear features cause problems, such as when feeding the resulting data into an unregularized linear model. \n",
    "<li> After one hot encoding every vector is in equal distance from every other vector. In some scenarios the distributed representation can capture more important information (e.g. for NLP tasks).\n",
    "</ul>\n",
    "</div>"
   ]
  },
  {
   "cell_type": "markdown",
   "id": "a00da271",
   "metadata": {
    "papermill": {
     "duration": 0.019764,
     "end_time": "2023-02-23T07:01:59.812691",
     "exception": false,
     "start_time": "2023-02-23T07:01:59.792927",
     "status": "completed"
    },
    "tags": []
   },
   "source": [
    "<a id=\"1.8\"></a>\n",
    "## <b>1.8 <span style='color:#E1B12D'>Simple examples</span></b>"
   ]
  },
  {
   "cell_type": "code",
   "execution_count": 2,
   "id": "7bdbc52e",
   "metadata": {
    "papermill": {
     "duration": 0.033996,
     "end_time": "2023-02-23T07:01:59.866766",
     "exception": false,
     "start_time": "2023-02-23T07:01:59.832770",
     "status": "completed"
    },
    "tags": []
   },
   "outputs": [],
   "source": [
    "import pandas as pd\n",
    "data=pd.DataFrame(pd.Series(['red','green','blue']))\n",
    "# new_data has two values that data does not have. \n",
    "new_data= pd.DataFrame(pd.Series(['red','green','blue','yellow','purple']))"
   ]
  },
  {
   "cell_type": "markdown",
   "id": "c62ae7fe",
   "metadata": {
    "papermill": {
     "duration": 0.019743,
     "end_time": "2023-02-23T07:01:59.906974",
     "exception": false,
     "start_time": "2023-02-23T07:01:59.887231",
     "status": "completed"
    },
    "tags": []
   },
   "source": [
    "<a id=\"1.8.1\"></a>\n",
    "### <b>1.8.1 <span style='color:#E1B12D'>Using get_dummies</span></b>"
   ]
  },
  {
   "cell_type": "code",
   "execution_count": 3,
   "id": "8cbd0227",
   "metadata": {
    "papermill": {
     "duration": 0.049952,
     "end_time": "2023-02-23T07:01:59.976989",
     "exception": false,
     "start_time": "2023-02-23T07:01:59.927037",
     "status": "completed"
    },
    "tags": []
   },
   "outputs": [
    {
     "name": "stdout",
     "output_type": "stream",
     "text": [
      "   0_blue  0_green  0_red\n",
      "0   False    False   True\n",
      "1   False     True  False\n",
      "2    True    False  False\n"
     ]
    }
   ],
   "source": [
    "gd_df = pd.get_dummies(data)\n",
    "print(gd_df)"
   ]
  },
  {
   "cell_type": "markdown",
   "id": "0adb20fe",
   "metadata": {
    "papermill": {
     "duration": 0.020239,
     "end_time": "2023-02-23T07:02:00.018023",
     "exception": false,
     "start_time": "2023-02-23T07:01:59.997784",
     "status": "completed"
    },
    "tags": []
   },
   "source": [
    "get_dummies returns a DataFrame."
   ]
  },
  {
   "cell_type": "code",
   "execution_count": 4,
   "id": "06ae5c84",
   "metadata": {
    "papermill": {
     "duration": 0.038298,
     "end_time": "2023-02-23T07:02:00.077106",
     "exception": false,
     "start_time": "2023-02-23T07:02:00.038808",
     "status": "completed"
    },
    "tags": []
   },
   "outputs": [
    {
     "name": "stdout",
     "output_type": "stream",
     "text": [
      "   0_blue  0_green  0_red\n",
      "0   False    False   True\n",
      "1   False     True  False\n",
      "2    True    False  False\n",
      "3   False    False  False\n",
      "4   False    False  False\n"
     ]
    }
   ],
   "source": [
    "col_list = gd_df.columns.tolist()\n",
    "new_df = pd.get_dummies(new_data)\n",
    "# handle unknow by using .reindex and .fillna()\n",
    "new_df = new_df.reindex(columns=col_list).fillna(0)\n",
    "print(new_df)"
   ]
  },
  {
   "cell_type": "markdown",
   "id": "fb5f212c",
   "metadata": {
    "papermill": {
     "duration": 0.020527,
     "end_time": "2023-02-23T07:02:00.118266",
     "exception": false,
     "start_time": "2023-02-23T07:02:00.097739",
     "status": "completed"
    },
    "tags": []
   },
   "source": [
    "<a id=\"1.8.2\"></a>\n",
    "### <b>1.8.2 <span style='color:#E1B12D'>Using OneHotEncoder</span></b>"
   ]
  },
  {
   "cell_type": "code",
   "execution_count": 6,
   "id": "ee561902",
   "metadata": {
    "papermill": {
     "duration": 0.158403,
     "end_time": "2023-02-23T07:02:00.297431",
     "exception": false,
     "start_time": "2023-02-23T07:02:00.139028",
     "status": "completed"
    },
    "tags": []
   },
   "outputs": [
    {
     "data": {
      "text/plain": [
       "array([[0., 0., 1.],\n",
       "       [0., 1., 0.],\n",
       "       [1., 0., 0.],\n",
       "       [0., 0., 0.],\n",
       "       [0., 0., 0.]])"
      ]
     },
     "execution_count": 6,
     "metadata": {},
     "output_type": "execute_result"
    }
   ],
   "source": [
    "from sklearn.preprocessing import OneHotEncoder\n",
    "\n",
    "ohe = OneHotEncoder(handle_unknown=\"ignore\", sparse_output=False)\n",
    "ohe.fit(data)\n",
    "ohe.transform(new_data)"
   ]
  },
  {
   "cell_type": "markdown",
   "id": "8b831ffc",
   "metadata": {
    "papermill": {
     "duration": 0.020241,
     "end_time": "2023-02-23T07:02:00.338460",
     "exception": false,
     "start_time": "2023-02-23T07:02:00.318219",
     "status": "completed"
    },
    "tags": []
   },
   "source": [
    "OneHotEncoder returns an array-like object of encoded data, which can be later transformed into a dense matrix or dataframe."
   ]
  }
 ],
 "metadata": {
  "kernelspec": {
   "display_name": "Python 3 (ipykernel)",
   "language": "python",
   "name": "python3"
  },
  "language_info": {
   "codemirror_mode": {
    "name": "ipython",
    "version": 3
   },
   "file_extension": ".py",
   "mimetype": "text/x-python",
   "name": "python",
   "nbconvert_exporter": "python",
   "pygments_lexer": "ipython3",
   "version": "3.11.7"
  },
  "papermill": {
   "default_parameters": {},
   "duration": 42.646609,
   "end_time": "2023-02-23T07:02:31.114324",
   "environment_variables": {},
   "exception": null,
   "input_path": "__notebook__.ipynb",
   "output_path": "__notebook__.ipynb",
   "parameters": {},
   "start_time": "2023-02-23T07:01:48.467715",
   "version": "2.3.4"
  }
 },
 "nbformat": 4,
 "nbformat_minor": 5
}
